{
 "cells": [
  {
   "cell_type": "code",
   "execution_count": 3,
   "metadata": {},
   "outputs": [],
   "source": [
    "import numpy as np\n",
    "from pulp import LpMaximize, LpProblem, LpStatus, lpSum, LpVariable\n",
    "\n",
    "model = LpProblem(name=\"choco\", sense=LpMaximize)"
   ]
  },
  {
   "cell_type": "code",
   "execution_count": 4,
   "metadata": {},
   "outputs": [
    {
     "name": "stdout",
     "output_type": "stream",
     "text": [
      "small-problem:\n",
      "MAXIMIZE\n",
      "1*x + 2*y + 0\n",
      "SUBJECT TO\n",
      "red_constraint: 2 x + y <= 20\n",
      "\n",
      "blue_constraint: 4 x - 5 y >= -10\n",
      "\n",
      "yellow_constraint: - x + 2 y >= -2\n",
      "\n",
      "green_constraint: - x + 5 y = 15\n",
      "\n",
      "VARIABLES\n",
      "x Continuous\n",
      "y Continuous\n",
      "\n"
     ]
    }
   ],
   "source": [
    "model = LpProblem(name=\"small-problem\", sense=LpMaximize)\n",
    "\n",
    "x = LpVariable(name=\"x\", lowBound=0)\n",
    "y = LpVariable(name=\"y\", lowBound=0)\n",
    "\n",
    "# Add the constraints to the model\n",
    "model += (2 * x + y <= 20, \"red_constraint\")\n",
    "model += (4 * x - 5 * y >= -10, \"blue_constraint\")\n",
    "model += (-x + 2 * y >= -2, \"yellow_constraint\")\n",
    "model += (-x + 5 * y == 15, \"green_constraint\")\n",
    "\n",
    "# Add the objective function to the model\n",
    "obj_func = x + 2 * y\n",
    "model += obj_func\n",
    "\n",
    "print(model)"
   ]
  },
  {
   "cell_type": "code",
   "execution_count": null,
   "metadata": {},
   "outputs": [],
   "source": [
    "# Solve the problem\n",
    "status = model.solve()"
   ]
  },
  {
   "cell_type": "code",
   "execution_count": 5,
   "metadata": {},
   "outputs": [
    {
     "data": {
      "text/plain": [
       "array([[0., 0., 0., 0., 0., 0., 0.],\n",
       "       [0., 0., 0., 0., 0., 0., 0.],\n",
       "       [0., 0., 0., 0., 0., 0., 0.],\n",
       "       [0., 0., 0., 0., 0., 0., 0.],\n",
       "       [0., 0., 0., 0., 0., 0., 0.],\n",
       "       [0., 0., 0., 0., 0., 0., 0.],\n",
       "       [0., 0., 0., 0., 0., 0., 0.]])"
      ]
     },
     "execution_count": 5,
     "metadata": {},
     "output_type": "execute_result"
    }
   ],
   "source": [
    "array = np.zeros([7, 7])\n",
    "\n",
    "contraints = {(1, 0): 6,\n",
    "              (7, 1): 3,\n",
    "              (3, 2): 3,\n",
    "              (2, 3): 6,\n",
    "              (3, 3): 1,\n",
    "              (3, 4): 5,\n",
    "              (4, 3): 4,\n",
    "              (0, 6): 5,\n",
    "              (6, 7): 4,\n",
    "              }\n",
    "\n",
    "def check_surroundings(input):\n",
    "    lst = []\n",
    "    for i, j in [(-1, 0), (0, -1), (1, 0), (0, 1)]:\n",
    "        coord = (input[0]+i, input[1]+j)\n",
    "        if (-1 in coord) or (7 in coord):\n",
    "            continue\n",
    "        lst.append(coord)\n",
    "    return lst\n",
    "\n",
    "array"
   ]
  },
  {
   "cell_type": "code",
   "execution_count": 46,
   "metadata": {},
   "outputs": [],
   "source": [
    "used = []\n",
    "for i in range(7):\n",
    "    for j in range(7):\n",
    "        used.append((i, j))\n",
    "\n",
    "used.sort(key=sum)"
   ]
  },
  {
   "cell_type": "code",
   "execution_count": 47,
   "metadata": {},
   "outputs": [
    {
     "ename": "ValueError",
     "evalue": "(1, 0) is not in list",
     "output_type": "error",
     "traceback": [
      "\u001b[0;31m---------------------------------------------------------------------------\u001b[0m",
      "\u001b[0;31mValueError\u001b[0m                                Traceback (most recent call last)",
      "Cell \u001b[0;32mIn[47], line 13\u001b[0m\n\u001b[1;32m     11\u001b[0m \u001b[39mfor\u001b[39;00m i \u001b[39min\u001b[39;00m check_surroundings(coord):\n\u001b[1;32m     12\u001b[0m     \u001b[39mif\u001b[39;00m array[i] \u001b[39m==\u001b[39m \u001b[39mtype\u001b[39m:\n\u001b[0;32m---> 13\u001b[0m         used\u001b[39m.\u001b[39mpop(used\u001b[39m.\u001b[39;49mindex(i))\n\u001b[1;32m     15\u001b[0m used[\u001b[39m0\u001b[39m] \u001b[39m=\u001b[39m coord\n",
      "\u001b[0;31mValueError\u001b[0m: (1, 0) is not in list"
     ]
    }
   ],
   "source": [
    "groups = []\n",
    "\n",
    "\n",
    "coord = (0, 0)\n",
    "while len(used) > 0:\n",
    "    block_dict = {}\n",
    "\n",
    "    type = array[coord]\n",
    "    used.pop(used.index(coord))\n",
    "\n",
    "    for i in check_surroundings(coord):\n",
    "        if array[i] == type:\n",
    "            used.pop(used.index(i))\n",
    "    \n",
    "    used[0] = coord"
   ]
  },
  {
   "cell_type": "code",
   "execution_count": null,
   "metadata": {},
   "outputs": [],
   "source": []
  },
  {
   "cell_type": "code",
   "execution_count": 8,
   "metadata": {},
   "outputs": [
    {
     "data": {
      "text/plain": [
       "dict_items([(0, [1, 2, 3, 4]), (1, [4, 5, 6, 7, 8])])"
      ]
     },
     "execution_count": 8,
     "metadata": {},
     "output_type": "execute_result"
    }
   ],
   "source": [
    "groups.items()"
   ]
  },
  {
   "cell_type": "code",
   "execution_count": 32,
   "metadata": {},
   "outputs": [
    {
     "ename": "NameError",
     "evalue": "name 'coord' is not defined",
     "output_type": "error",
     "traceback": [
      "\u001b[0;31m---------------------------------------------------------------------------\u001b[0m",
      "\u001b[0;31mNameError\u001b[0m                                 Traceback (most recent call last)",
      "Cell \u001b[0;32mIn[32], line 1\u001b[0m\n\u001b[0;32m----> 1\u001b[0m \u001b[39mreversed\u001b[39m(coord)\n",
      "\u001b[0;31mNameError\u001b[0m: name 'coord' is not defined"
     ]
    }
   ],
   "source": [
    "coord\n",
    "reversed(coord)"
   ]
  },
  {
   "cell_type": "code",
   "execution_count": null,
   "metadata": {},
   "outputs": [],
   "source": []
  }
 ],
 "metadata": {
  "kernelspec": {
   "display_name": "Python 3",
   "language": "python",
   "name": "python3"
  },
  "language_info": {
   "codemirror_mode": {
    "name": "ipython",
    "version": 3
   },
   "file_extension": ".py",
   "mimetype": "text/x-python",
   "name": "python",
   "nbconvert_exporter": "python",
   "pygments_lexer": "ipython3",
   "version": "3.9.6"
  },
  "orig_nbformat": 4
 },
 "nbformat": 4,
 "nbformat_minor": 2
}
